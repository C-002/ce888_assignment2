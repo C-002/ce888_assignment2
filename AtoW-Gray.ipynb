{
 "cells": [
  {
   "cell_type": "code",
   "execution_count": 1,
   "metadata": {},
   "outputs": [
    {
     "name": "stderr",
     "output_type": "stream",
     "text": [
      "Using TensorFlow backend.\n"
     ]
    }
   ],
   "source": [
    "from timeit import default_timer as timer\n",
    "\n",
    "import numpy as np\n",
    "from keras import backend as K\n",
    "from keras.datasets import mnist\n",
    "from keras.layers import Conv2D, MaxPooling2D\n",
    "from keras.layers import Dense, Flatten\n",
    "from keras.models import Sequential\n",
    "from sklearn.ensemble import ExtraTreesClassifier\n",
    "from sklearn.tree import DecisionTreeClassifier\n",
    "from sklearn.metrics import accuracy_score\n",
    "\n",
    "from keras_helper import NNWeightHelper\n",
    "from snes import SNES"
   ]
  },
  {
   "cell_type": "code",
   "execution_count": 2,
   "metadata": {},
   "outputs": [],
   "source": [
    "import os\n",
    "import cv2\n",
    "import matplotlib.pyplot as plt\n",
    "from dataSet import dataSet"
   ]
  },
  {
   "cell_type": "code",
   "execution_count": 3,
   "metadata": {},
   "outputs": [],
   "source": [
    "# use just a small sample of the train set to test\n",
    "SAMPLE_SIZE = 1024\n",
    "# how many different sets of weights ask() should return for evaluation\n",
    "POPULATION_SIZE = 93\n",
    "# how many times we will loop over ask()/tell()\n",
    "GENERATIONS = 60\n",
    "\n",
    "# input image dimensions\n",
    "img_rows, img_cols = 28, 28"
   ]
  },
  {
   "cell_type": "code",
   "execution_count": 4,
   "metadata": {},
   "outputs": [],
   "source": [
    "def train_classifier(model, X, y):\n",
    "    X_features = model.predict(X)\n",
    "    #clf = ExtraTreesClassifier(n_estimators=100, n_jobs=4)\n",
    "    clf = DecisionTreeClassifier()\n",
    "\n",
    "    clf.fit(X_features, y)\n",
    "    y_pred = clf.predict(X_features)\n",
    "    return clf, y_pred\n",
    "\n",
    "def predict_classifier(model, clf, X):\n",
    "    X_features = model.predict(X)\n",
    "    return clf.predict(X_features)"
   ]
  },
  {
   "cell_type": "code",
   "execution_count": 5,
   "metadata": {
    "scrolled": true
   },
   "outputs": [
    {
     "name": "stdout",
     "output_type": "stream",
     "text": [
      "{'back_pack': 0, 'bike': 1, 'bike_helmet': 2, 'bookcase': 3, 'bottle': 4, 'calculator': 5, 'desktop_computer': 6, 'desk_chair': 7, 'desk_lamp': 8, 'file_cabinet': 9, 'headphones': 10, 'keyboard': 11, 'laptop_computer': 12, 'letter_tray': 13, 'mobile_phone': 14, 'monitor': 15, 'mouse': 16, 'mug': 17, 'paper_notebook': 18, 'pen': 19, 'phone': 20, 'printer': 21, 'projector': 22, 'punchers': 23, 'ring_binder': 24, 'ruler': 25, 'scissors': 26, 'speaker': 27, 'stapler': 28, 'tape_dispenser': 29, 'trash_can': 30}\n"
     ]
    }
   ],
   "source": [
    "Amazon_path = './Original_images/amazon/images'\n",
    "dslr_path   = './Original_images/dslr/images'\n",
    "webcam_path = './Original_images/webcam/images'\n",
    "paths = [Amazon_path, dslr_path, webcam_path]\n",
    "files = os.listdir(Amazon_path)\n",
    "labels = {}\n",
    "count  = 0\n",
    "for key in files:\n",
    "    a = {key : count}\n",
    "    labels.update(a)\n",
    "    count += 1\n",
    "print (labels)"
   ]
  },
  {
   "cell_type": "code",
   "execution_count": 6,
   "metadata": {},
   "outputs": [],
   "source": [
    "images_path = []\n",
    "Amazon = dataSet()\n",
    "dslr   = dataSet()\n",
    "webcam = dataSet()"
   ]
  },
  {
   "cell_type": "code",
   "execution_count": 7,
   "metadata": {},
   "outputs": [
    {
     "name": "stdout",
     "output_type": "stream",
     "text": [
      "Loading Amazon dataSet...\n",
      "[>>>>>>>>>>>>>>>>>>>>>>>>>>>>>>>>>>>>>>>>>>>>>>>>>>]100.00%\n",
      "done\n"
     ]
    }
   ],
   "source": [
    "print('Loading Amazon dataSet...')\n",
    "for dirname in files:\n",
    "    images_name = os.listdir(Amazon_path + '/' + dirname)\n",
    "    for name in images_name:\n",
    "        Image_Path = Amazon_path + '/' + dirname + '/' + name\n",
    "        images_path.append(Image_Path)\n",
    "        image_data = cv2.imread(Image_Path, 0)\n",
    "        image_data = cv2.resize(image_data, (img_rows, img_cols), interpolation=cv2.INTER_AREA)\n",
    "        image_data = image_data.reshape(img_rows, img_cols, 1)\n",
    "        Amazon.upData(image_data, labels[dirname], labels)        \n",
    "Amazon.sHape()"
   ]
  },
  {
   "cell_type": "code",
   "execution_count": 8,
   "metadata": {},
   "outputs": [
    {
     "name": "stdout",
     "output_type": "stream",
     "text": [
      "Loading webcam dataSet...\n",
      "[>>>>>>>>>>>>>>>>>>>>>>>>>>>>>>>>>>>>>>>>>>>>>>>>>>]100.00%\n",
      "done\n"
     ]
    }
   ],
   "source": [
    "print('Loading webcam dataSet...')\n",
    "for dirname in files:\n",
    "    images_name = os.listdir(webcam_path + '/' + dirname)\n",
    "    for name in images_name:\n",
    "        Image_Path = webcam_path + '/' + dirname + '/' + name\n",
    "        images_path.append(Image_Path)\n",
    "        image_data = cv2.imread(Image_Path, 0)\n",
    "        image_data = cv2.resize(image_data, (img_rows, img_cols), interpolation=cv2.INTER_AREA)\n",
    "        image_data = image_data.reshape(img_rows, img_cols, 1)\n",
    "        webcam.upData(image_data, labels[dirname], labels)\n",
    "webcam.sHape()"
   ]
  },
  {
   "cell_type": "code",
   "execution_count": 9,
   "metadata": {},
   "outputs": [],
   "source": [
    "x_train = Amazon.data\n",
    "y_train = Amazon.label\n",
    "x_test  = webcam.data\n",
    "y_test  = webcam.label"
   ]
  },
  {
   "cell_type": "code",
   "execution_count": 10,
   "metadata": {},
   "outputs": [
    {
     "name": "stdout",
     "output_type": "stream",
     "text": [
      "x_train shape: (2817, 28, 28, 1)\n",
      "y_train shape: (2817,)\n",
      "2817 train samples\n",
      "795 test samples\n"
     ]
    }
   ],
   "source": [
    "x_train = x_train.reshape(x_train.shape[0], img_rows, img_cols, 1)\n",
    "x_test = x_test.reshape(x_test.shape[0], img_rows, img_cols, 1)\n",
    "input_shape = (img_rows, img_cols, 1)\n",
    "\n",
    "x_train = x_train.astype('float32')\n",
    "x_test = x_test.astype('float32')\n",
    "x_train /= 255\n",
    "x_test /= 255\n",
    "\n",
    "print('x_train shape:', x_train.shape)\n",
    "print('y_train shape:', y_train.shape)\n",
    "print(x_train.shape[0], 'train samples')\n",
    "print(x_test.shape[0], 'test samples')"
   ]
  },
  {
   "cell_type": "code",
   "execution_count": 11,
   "metadata": {},
   "outputs": [
    {
     "name": "stdout",
     "output_type": "stream",
     "text": [
      "compilation is over\n"
     ]
    }
   ],
   "source": [
    "model = Sequential()\n",
    "model.add(Conv2D(32, kernel_size=(3, 3),\n",
    "                 activation='relu',\n",
    "                 input_shape=input_shape))\n",
    "# model.add(Conv2D(64, (3, 3), activation='relu'))\n",
    "model.add(MaxPooling2D(pool_size=(2, 2)))\n",
    "model.add(Flatten())\n",
    "model.add(Dense(31, activation='relu'))\n",
    "\n",
    "# this is irrelevant for what we want to achieve\n",
    "model.compile(loss=\"mse\", optimizer=\"adam\")\n",
    "print(\"compilation is over\")"
   ]
  },
  {
   "cell_type": "code",
   "execution_count": 12,
   "metadata": {},
   "outputs": [
    {
     "name": "stdout",
     "output_type": "stream",
     "text": [
      "_________________________________________________________________\n",
      "Layer (type)                 Output Shape              Param #   \n",
      "=================================================================\n",
      "conv2d_1 (Conv2D)            (None, 26, 26, 32)        320       \n",
      "_________________________________________________________________\n",
      "max_pooling2d_1 (MaxPooling2 (None, 13, 13, 32)        0         \n",
      "_________________________________________________________________\n",
      "flatten_1 (Flatten)          (None, 5408)              0         \n",
      "_________________________________________________________________\n",
      "dense_1 (Dense)              (None, 31)                167679    \n",
      "=================================================================\n",
      "Total params: 167,999\n",
      "Trainable params: 167,999\n",
      "Non-trainable params: 0\n",
      "_________________________________________________________________\n"
     ]
    }
   ],
   "source": [
    "model.summary()"
   ]
  },
  {
   "cell_type": "code",
   "execution_count": 13,
   "metadata": {},
   "outputs": [],
   "source": [
    "nnw = NNWeightHelper(model)\n",
    "weights = nnw.get_weights()"
   ]
  },
  {
   "cell_type": "code",
   "execution_count": 14,
   "metadata": {},
   "outputs": [
    {
     "name": "stdout",
     "output_type": "stream",
     "text": [
      "Total number of weights to evolve is: (167999,)\n",
      "(795,) (795,)\n",
      "Non-trained NN Test accuracy: 0.050314465408805034\n"
     ]
    }
   ],
   "source": [
    "print(\"Total number of weights to evolve is:\", weights.shape)\n",
    "\n",
    "all_examples_indices = list(range(x_train.shape[0]))\n",
    "\n",
    "clf, _ = train_classifier(model, x_train, y_train)\n",
    "\n",
    "y_pred = predict_classifier(model, clf, x_test)\n",
    "print(y_test.shape, y_pred.shape)\n",
    "test_accuracy = accuracy_score(y_test, y_pred)\n",
    "\n",
    "print('Non-trained NN Test accuracy:', test_accuracy)\n",
    "# print('Test MSE:', test_mse)"
   ]
  },
  {
   "cell_type": "code",
   "execution_count": 15,
   "metadata": {},
   "outputs": [
    {
     "name": "stdout",
     "output_type": "stream",
     "text": [
      "Step 1.0 : 0.47804878048780486 best: 0.47804878048780486 93\n",
      "It took 16.855916133069535 seconds to complete generation 1\n",
      "Step 2.0 : 0.49853658536585366 best: 0.49853658536585366 93\n",
      "It took 17.279257504598522 seconds to complete generation 2\n",
      "Step 3.0 : 0.5170731707317073 best: 0.5170731707317073 93\n",
      "It took 17.791379588250535 seconds to complete generation 3\n",
      "Step 4.0 : 0.504390243902439 best: 0.5170731707317073 93\n",
      "It took 17.697032847038294 seconds to complete generation 4\n",
      "Step 5.0 : 0.49853658536585366 best: 0.5170731707317073 93\n",
      "It took 17.414465117602063 seconds to complete generation 5\n",
      "Step 6.0 : 0.5092682926829268 best: 0.5170731707317073 93\n",
      "It took 17.347601262302234 seconds to complete generation 6\n",
      "Step 7.0 : 0.5053658536585366 best: 0.5170731707317073 93\n",
      "It took 17.180906414543344 seconds to complete generation 7\n",
      "Step 8.0 : 0.49658536585365853 best: 0.5170731707317073 93\n",
      "It took 17.27729641662927 seconds to complete generation 8\n",
      "Step 9.0 : 0.5063414634146342 best: 0.5170731707317073 93\n",
      "It took 17.14088386440207 seconds to complete generation 9\n",
      "Step 10.0 : 0.5092682926829268 best: 0.5170731707317073 93\n",
      "It took 17.585349598300894 seconds to complete generation 10\n",
      "Step 11.0 : 0.5092682926829268 best: 0.5170731707317073 93\n",
      "It took 17.69009871810269 seconds to complete generation 11\n",
      "Step 12.0 : 0.5053658536585366 best: 0.5170731707317073 93\n",
      "It took 17.39817947510477 seconds to complete generation 12\n",
      "Step 13.0 : 0.5121951219512195 best: 0.5170731707317073 93\n",
      "It took 17.86090497651753 seconds to complete generation 13\n",
      "Step 14.0 : 0.4946341463414634 best: 0.5170731707317073 93\n",
      "It took 17.744726316820817 seconds to complete generation 14\n",
      "Step 15.0 : 0.5170731707317073 best: 0.5170731707317073 93\n",
      "It took 17.65103893415423 seconds to complete generation 15\n",
      "Step 16.0 : 0.5063414634146342 best: 0.5170731707317073 93\n",
      "It took 17.46123058665131 seconds to complete generation 16\n",
      "Step 17.0 : 0.5053658536585366 best: 0.5170731707317073 93\n",
      "It took 17.39709542486554 seconds to complete generation 17\n",
      "Step 18.0 : 0.5121951219512195 best: 0.5170731707317073 93\n",
      "It took 17.468253604546078 seconds to complete generation 18\n",
      "Step 19.0 : 0.5239024390243903 best: 0.5239024390243903 93\n",
      "It took 17.219838988514766 seconds to complete generation 19\n",
      "Step 20.0 : 0.5297560975609756 best: 0.5297560975609756 93\n",
      "It took 17.5672273123771 seconds to complete generation 20\n",
      "Step 21.0 : 0.5121951219512195 best: 0.5297560975609756 93\n",
      "It took 17.9411183732293 seconds to complete generation 21\n",
      "Step 22.0 : 0.5141463414634146 best: 0.5297560975609756 93\n",
      "It took 17.85082615373915 seconds to complete generation 22\n",
      "Step 23.0 : 0.5034146341463415 best: 0.5297560975609756 93\n",
      "It took 17.642471223680957 seconds to complete generation 23\n",
      "Step 24.0 : 0.526829268292683 best: 0.5297560975609756 93\n",
      "It took 17.411143435965187 seconds to complete generation 24\n",
      "Step 25.0 : 0.48878048780487804 best: 0.5297560975609756 93\n",
      "It took 17.67505910128125 seconds to complete generation 25\n",
      "Step 26.0 : 0.52 best: 0.5297560975609756 93\n",
      "It took 17.609511592700528 seconds to complete generation 26\n",
      "Step 27.0 : 0.5248780487804878 best: 0.5297560975609756 93\n",
      "It took 17.858835246487104 seconds to complete generation 27\n",
      "Step 28.0 : 0.5141463414634146 best: 0.5297560975609756 93\n",
      "It took 17.565050520533703 seconds to complete generation 28\n",
      "Step 29.0 : 0.5141463414634146 best: 0.5297560975609756 93\n",
      "It took 17.884760402773622 seconds to complete generation 29\n",
      "Step 30.0 : 0.5336585365853659 best: 0.5336585365853659 93\n",
      "It took 17.613258756155062 seconds to complete generation 30\n",
      "Step 31.0 : 0.5278048780487805 best: 0.5336585365853659 93\n",
      "It took 17.594970544174316 seconds to complete generation 31\n",
      "Step 32.0 : 0.4946341463414634 best: 0.5336585365853659 93\n",
      "It took 17.82952875419562 seconds to complete generation 32\n",
      "Step 33.0 : 0.5209756097560976 best: 0.5336585365853659 93\n",
      "It took 17.90115310708393 seconds to complete generation 33\n",
      "Step 34.0 : 0.52 best: 0.5336585365853659 93\n",
      "It took 17.758368204142812 seconds to complete generation 34\n",
      "Step 35.0 : 0.5053658536585366 best: 0.5336585365853659 93\n",
      "It took 18.142323470477777 seconds to complete generation 35\n",
      "Step 36.0 : 0.5151219512195122 best: 0.5336585365853659 93\n",
      "It took 17.91579845198885 seconds to complete generation 36\n",
      "Step 37.0 : 0.5307317073170732 best: 0.5336585365853659 93\n",
      "It took 18.123091455282065 seconds to complete generation 37\n",
      "Step 38.0 : 0.5278048780487805 best: 0.5336585365853659 93\n",
      "It took 18.129264694727567 seconds to complete generation 38\n",
      "Step 39.0 : 0.52 best: 0.5336585365853659 93\n",
      "It took 18.08911374942329 seconds to complete generation 39\n",
      "Step 40.0 : 0.5209756097560976 best: 0.5336585365853659 93\n",
      "It took 18.016766037938623 seconds to complete generation 40\n",
      "Step 41.0 : 0.5092682926829268 best: 0.5336585365853659 93\n",
      "It took 17.6980414404278 seconds to complete generation 41\n",
      "Step 42.0 : 0.5053658536585366 best: 0.5336585365853659 93\n",
      "It took 18.14944367363455 seconds to complete generation 42\n",
      "Step 43.0 : 0.5170731707317073 best: 0.5336585365853659 93\n",
      "It took 18.122871800787493 seconds to complete generation 43\n",
      "Step 44.0 : 0.5278048780487805 best: 0.5336585365853659 93\n",
      "It took 17.945923512828358 seconds to complete generation 44\n",
      "Step 45.0 : 0.5082926829268293 best: 0.5336585365853659 93\n",
      "It took 18.360202556209515 seconds to complete generation 45\n",
      "Step 46.0 : 0.5141463414634146 best: 0.5336585365853659 93\n",
      "It took 18.145988856089957 seconds to complete generation 46\n",
      "Step 47.0 : 0.5160975609756098 best: 0.5336585365853659 93\n",
      "It took 18.282242988438952 seconds to complete generation 47\n",
      "Step 48.0 : 0.5209756097560976 best: 0.5336585365853659 93\n",
      "It took 18.52541908181263 seconds to complete generation 48\n",
      "Step 49.0 : 0.5151219512195122 best: 0.5336585365853659 93\n",
      "It took 18.661060472936697 seconds to complete generation 49\n",
      "Step 50.0 : 0.5209756097560976 best: 0.5336585365853659 93\n",
      "It took 18.439819014177942 seconds to complete generation 50\n",
      "Step 51.0 : 0.5326829268292683 best: 0.5336585365853659 93\n",
      "It took 18.069301783152014 seconds to complete generation 51\n",
      "Step 52.0 : 0.5346341463414634 best: 0.5346341463414634 93\n",
      "It took 17.97370783107783 seconds to complete generation 52\n",
      "Step 53.0 : 0.52 best: 0.5346341463414634 93\n",
      "It took 17.95672687938918 seconds to complete generation 53\n",
      "Step 54.0 : 0.5141463414634146 best: 0.5346341463414634 93\n",
      "It took 18.264141245741257 seconds to complete generation 54\n",
      "Step 55.0 : 0.5151219512195122 best: 0.5346341463414634 93\n",
      "It took 18.130961486191836 seconds to complete generation 55\n",
      "Step 56.0 : 0.5209756097560976 best: 0.5346341463414634 93\n",
      "It took 18.64379310126867 seconds to complete generation 56\n",
      "Step 57.0 : 0.5365853658536586 best: 0.5365853658536586 93\n",
      "It took 18.49826093689751 seconds to complete generation 57\n",
      "Step 58.0 : 0.5375609756097561 best: 0.5375609756097561 93\n",
      "It took 18.61778774738775 seconds to complete generation 58\n",
      "Step 59.0 : 0.5258536585365854 best: 0.5375609756097561 93\n",
      "It took 18.11266418778405 seconds to complete generation 59\n",
      "Step 60.0 : 0.5239024390243903 best: 0.5375609756097561 93\n",
      "It took 17.939060495060176 seconds to complete generation 60\n"
     ]
    }
   ],
   "source": [
    "snes = SNES(weights, 1, POPULATION_SIZE)\n",
    "log = []\n",
    "for i in range(0, GENERATIONS):\n",
    "    start = timer()\n",
    "    asked = snes.ask()\n",
    "\n",
    "    # to be provided back to snes\n",
    "    told = []\n",
    "    # use a small number of training samples for speed purposes\n",
    "    subsample_indices = np.random.choice(all_examples_indices, size=SAMPLE_SIZE, replace=False)\n",
    "    # evaluate on another subset\n",
    "    subsample_indices_valid = np.random.choice(all_examples_indices, size=SAMPLE_SIZE + 1, replace=False)\n",
    "\n",
    "    # iterate over the population\n",
    "    for asked_j in asked:\n",
    "        # set nn weights\n",
    "        nnw.set_weights(asked_j)\n",
    "        # train the classifer and get back the predictions on the training data\n",
    "        clf, _ = train_classifier(model, x_train[subsample_indices], y_train[subsample_indices])\n",
    "\n",
    "        # calculate the predictions on a different set\n",
    "        y_pred = predict_classifier(model, clf, x_train[subsample_indices_valid])\n",
    "        score = accuracy_score(y_train[subsample_indices_valid], y_pred)\n",
    "\n",
    "        # clf, _ = train_classifier(model, x_train, y_train)\n",
    "        # y_pred = predict_classifier(model, clf, x_test)\n",
    "        # score = accuracy_score(y_test, y_pred)\n",
    "        # append to array of values that are to be returned\n",
    "        told.append(score)\n",
    "\n",
    "    t = snes.tell(asked, told)\n",
    "    log.append(t)\n",
    "    end = timer()\n",
    "    print(\"It took\", end - start, \"seconds to complete generation\", i + 1)"
   ]
  },
  {
   "cell_type": "code",
   "execution_count": 16,
   "metadata": {},
   "outputs": [
    {
     "name": "stdout",
     "output_type": "stream",
     "text": [
      "(795,) (795,)\n",
      "Test accuracy: 0.04025157232704402\n"
     ]
    }
   ],
   "source": [
    "nnw.set_weights(snes.center)\n",
    "\n",
    "clf, _ = train_classifier(model, x_train, y_train)\n",
    "y_pred = predict_classifier(model, clf, x_test)\n",
    "\n",
    "print(y_test.shape, y_pred.shape)\n",
    "test_accuracy = accuracy_score(y_test, y_pred)\n",
    "\n",
    "print('Test accuracy:', test_accuracy)"
   ]
  },
  {
   "cell_type": "code",
   "execution_count": 17,
   "metadata": {},
   "outputs": [
    {
     "data": {
      "image/png": "[encoded data removed]",
      "text/plain": [
       "<Figure size 432x288 with 1 Axes>"
      ]
     },
     "metadata": {},
     "output_type": "display_data"
    }
   ],
   "source": [
    "maxline = []\n",
    "for i in range(1, len(log)):\n",
    "    maxline.append(max(log[:i]))\n",
    "plt.plot(log)\n",
    "plt.xlabel('Generation')\n",
    "plt.ylabel('loss value')\n",
    "plt.legend('test', loc='upper left')\n",
    "plt.plot(maxline)\n",
    "plt.savefig('log_AtoW_3_Gray.png')\n",
    "plt.show()"
   ]
  }
 ],
 "metadata": {
  "kernelspec": {
   "display_name": "Python 3",
   "language": "python",
   "name": "python3"
  },
  "language_info": {
   "codemirror_mode": {
    "name": "ipython",
    "version": 3
   },
   "file_extension": ".py",
   "mimetype": "text/x-python",
   "name": "python",
   "nbconvert_exporter": "python",
   "pygments_lexer": "ipython3",
   "version": "3.6.5"
  }
 },
 "nbformat": 4,
 "nbformat_minor": 2
}
