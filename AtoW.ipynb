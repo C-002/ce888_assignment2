{
 "cells": [
  {
   "cell_type": "code",
   "execution_count": 1,
   "metadata": {},
   "outputs": [
    {
     "name": "stderr",
     "output_type": "stream",
     "text": [
      "Using TensorFlow backend.\n"
     ]
    }
   ],
   "source": [
    "from timeit import default_timer as timer\n",
    "\n",
    "import numpy as np\n",
    "from keras import backend as K\n",
    "from keras.datasets import mnist\n",
    "from keras.layers import Conv2D, MaxPooling2D\n",
    "from keras.layers import Dense, Flatten\n",
    "from keras.models import Sequential\n",
    "from sklearn.ensemble import ExtraTreesClassifier\n",
    "from sklearn.tree import DecisionTreeClassifier\n",
    "from sklearn.metrics import accuracy_score\n",
    "\n",
    "from keras_helper import NNWeightHelper\n",
    "from snes import SNES"
   ]
  },
  {
   "cell_type": "code",
   "execution_count": 2,
   "metadata": {},
   "outputs": [],
   "source": [
    "import os\n",
    "import cv2\n",
    "import matplotlib.pyplot as plt\n",
    "from dataSet import dataSet"
   ]
  },
  {
   "cell_type": "code",
   "execution_count": 3,
   "metadata": {},
   "outputs": [],
   "source": [
    "# use just a small sample of the train set to test\n",
    "SAMPLE_SIZE = 1024\n",
    "# how many different sets of weights ask() should return for evaluation\n",
    "POPULATION_SIZE = 93\n",
    "# how many times we will loop over ask()/tell()\n",
    "GENERATIONS = 30\n",
    "\n",
    "# input image dimensions\n",
    "img_rows, img_cols = 28, 28"
   ]
  },
  {
   "cell_type": "code",
   "execution_count": 4,
   "metadata": {},
   "outputs": [],
   "source": [
    "def train_classifier(model, X, y):\n",
    "    X_features = model.predict(X)\n",
    "    #clf = ExtraTreesClassifier(n_estimators=100, n_jobs=4)\n",
    "    clf = DecisionTreeClassifier()\n",
    "\n",
    "    clf.fit(X_features, y)\n",
    "    y_pred = clf.predict(X_features)\n",
    "    return clf, y_pred\n",
    "\n",
    "def predict_classifier(model, clf, X):\n",
    "    X_features = model.predict(X)\n",
    "    return clf.predict(X_features)"
   ]
  },
  {
   "cell_type": "code",
   "execution_count": 5,
   "metadata": {},
   "outputs": [
    {
     "name": "stdout",
     "output_type": "stream",
     "text": [
      "{'mobile_phone': 0, 'paper_notebook': 1, 'back_pack': 2, 'monitor': 3, 'projector': 4, 'calculator': 5, 'desk_lamp': 6, 'laptop_computer': 7, 'speaker': 8, 'letter_tray': 9, 'bike': 10, 'trash_can': 11, 'printer': 12, 'stapler': 13, 'headphones': 14, 'punchers': 15, 'file_cabinet': 16, 'tape_dispenser': 17, 'mouse': 18, 'pen': 19, 'bookcase': 20, 'desk_chair': 21, 'desktop_computer': 22, 'ruler': 23, 'mug': 24, 'phone': 25, 'scissors': 26, 'ring_binder': 27, 'bike_helmet': 28, 'bottle': 29, 'keyboard': 30}\n"
     ]
    }
   ],
   "source": [
    "Amazon_path = './Original_images/amazon/images'\n",
    "dslr_path   = './Original_images/dslr/images'\n",
    "webcam_path = './Original_images/webcam/images'\n",
    "paths = [Amazon_path, dslr_path, webcam_path]\n",
    "files = os.listdir(Amazon_path)\n",
    "labels = {}\n",
    "count  = 0\n",
    "for key in files:\n",
    "    a = {key : count}\n",
    "    labels.update(a)\n",
    "    count += 1\n",
    "print (labels)"
   ]
  },
  {
   "cell_type": "code",
   "execution_count": 6,
   "metadata": {},
   "outputs": [],
   "source": [
    "images_path = []\n",
    "Amazon = dataSet()\n",
    "dslr   = dataSet()\n",
    "webcam = dataSet()"
   ]
  },
  {
   "cell_type": "code",
   "execution_count": 7,
   "metadata": {},
   "outputs": [
    {
     "name": "stdout",
     "output_type": "stream",
     "text": [
      "Loading Amazon dataSet...\n",
      "[>>>>>>>>>>>>>>>>>>>>>>>>>>>>>>>>>>>>>>>>>>>>>>>>>>]100.00%\n",
      "done\n"
     ]
    }
   ],
   "source": [
    "print('Loading Amazon dataSet...')\n",
    "for dirname in files:\n",
    "    images_name = os.listdir(Amazon_path + '/' + dirname)\n",
    "    for name in images_name:\n",
    "        Image_Path = Amazon_path + '/' + dirname + '/' + name\n",
    "        images_path.append(Image_Path)\n",
    "        image_data = cv2.imread(Image_Path)\n",
    "        image_data = cv2.resize(image_data, (img_rows, img_cols), interpolation=cv2.INTER_CUBIC)\n",
    "        image_data = image_data.reshape(img_rows, img_cols, 3)\n",
    "        Amazon.upData(image_data, labels[dirname], labels)        \n",
    "Amazon.sHape()"
   ]
  },
  {
   "cell_type": "code",
   "execution_count": 8,
   "metadata": {},
   "outputs": [
    {
     "name": "stdout",
     "output_type": "stream",
     "text": [
      "Loading webcam dataSet...\n",
      "[>>>>>>>>>>>>>>>>>>>>>>>>>>>>>>>>>>>>>>>>>>>>>>>>>>]100.00%\n",
      "done\n"
     ]
    }
   ],
   "source": [
    "print('Loading webcam dataSet...')\n",
    "for dirname in files:\n",
    "    images_name = os.listdir(webcam_path + '/' + dirname)\n",
    "    for name in images_name:\n",
    "        Image_Path = webcam_path + '/' + dirname + '/' + name\n",
    "        images_path.append(Image_Path)\n",
    "        image_data = cv2.imread(Image_Path)\n",
    "        image_data = cv2.resize(image_data, (img_rows, img_cols), interpolation=cv2.INTER_CUBIC)\n",
    "        image_data = image_data.reshape(img_rows, img_cols, 3)\n",
    "        webcam.upData(image_data, labels[dirname], labels)\n",
    "webcam.sHape()"
   ]
  },
  {
   "cell_type": "code",
   "execution_count": 9,
   "metadata": {},
   "outputs": [],
   "source": [
    "x_train = Amazon.data\n",
    "y_train = Amazon.label\n",
    "x_test  = webcam.data\n",
    "y_test  = webcam.label"
   ]
  },
  {
   "cell_type": "code",
   "execution_count": 10,
   "metadata": {},
   "outputs": [
    {
     "name": "stdout",
     "output_type": "stream",
     "text": [
      "x_train shape: (2817, 28, 28, 3)\n",
      "y_train shape: (2817,)\n",
      "2817 train samples\n",
      "795 test samples\n"
     ]
    }
   ],
   "source": [
    "x_train = x_train.reshape(x_train.shape[0], img_rows, img_cols, 3)\n",
    "x_test = x_test.reshape(x_test.shape[0], img_rows, img_cols, 3)\n",
    "input_shape = (img_rows, img_cols, 3)\n",
    "\n",
    "x_train = x_train.astype('float32')\n",
    "x_test = x_test.astype('float32')\n",
    "x_train /= 255\n",
    "x_test /= 255\n",
    "\n",
    "print('x_train shape:', x_train.shape)\n",
    "print('y_train shape:', y_train.shape)\n",
    "print(x_train.shape[0], 'train samples')\n",
    "print(x_test.shape[0], 'test samples')"
   ]
  },
  {
   "cell_type": "code",
   "execution_count": 11,
   "metadata": {},
   "outputs": [
    {
     "name": "stdout",
     "output_type": "stream",
     "text": [
      "compilation is over\n"
     ]
    }
   ],
   "source": [
    "model = Sequential()\n",
    "model.add(Conv2D(32, kernel_size=(3, 3),\n",
    "                 activation='relu',\n",
    "                 input_shape=input_shape))\n",
    "# model.add(Conv2D(64, (3, 3), activation='relu'))\n",
    "model.add(MaxPooling2D(pool_size=(2, 2)))\n",
    "model.add(Flatten())\n",
    "model.add(Dense(31, activation='relu'))\n",
    "\n",
    "# this is irrelevant for what we want to achieve\n",
    "model.compile(loss=\"mse\", optimizer=\"adam\")\n",
    "print(\"compilation is over\")"
   ]
  },
  {
   "cell_type": "code",
   "execution_count": 12,
   "metadata": {},
   "outputs": [
    {
     "name": "stdout",
     "output_type": "stream",
     "text": [
      "_________________________________________________________________\n",
      "Layer (type)                 Output Shape              Param #   \n",
      "=================================================================\n",
      "conv2d_1 (Conv2D)            (None, 26, 26, 32)        896       \n",
      "_________________________________________________________________\n",
      "max_pooling2d_1 (MaxPooling2 (None, 13, 13, 32)        0         \n",
      "_________________________________________________________________\n",
      "flatten_1 (Flatten)          (None, 5408)              0         \n",
      "_________________________________________________________________\n",
      "dense_1 (Dense)              (None, 31)                167679    \n",
      "=================================================================\n",
      "Total params: 168,575\n",
      "Trainable params: 168,575\n",
      "Non-trainable params: 0\n",
      "_________________________________________________________________\n"
     ]
    }
   ],
   "source": [
    "model.summary()"
   ]
  },
  {
   "cell_type": "code",
   "execution_count": 13,
   "metadata": {},
   "outputs": [],
   "source": [
    "nnw = NNWeightHelper(model)\n",
    "weights = nnw.get_weights()"
   ]
  },
  {
   "cell_type": "code",
   "execution_count": 14,
   "metadata": {},
   "outputs": [
    {
     "name": "stdout",
     "output_type": "stream",
     "text": [
      "Total number of weights to evolve is: (168575,)\n",
      "(795,) (795,)\n",
      "Non-trained NN Test accuracy: 0.026415094339622643\n"
     ]
    }
   ],
   "source": [
    "print(\"Total number of weights to evolve is:\", weights.shape)\n",
    "\n",
    "all_examples_indices = list(range(x_train.shape[0]))\n",
    "\n",
    "clf, _ = train_classifier(model, x_train, y_train)\n",
    "\n",
    "y_pred = predict_classifier(model, clf, x_test)\n",
    "print(y_test.shape, y_pred.shape)\n",
    "test_accuracy = accuracy_score(y_test, y_pred)\n",
    "\n",
    "print('Non-trained NN Test accuracy:', test_accuracy)\n",
    "# print('Test MSE:', test_mse)"
   ]
  },
  {
   "cell_type": "code",
   "execution_count": 15,
   "metadata": {},
   "outputs": [
    {
     "name": "stdout",
     "output_type": "stream",
     "text": [
      "Step 1.0 : 0.4848780487804878 best: 0.4848780487804878 93\n",
      "It took 35.87001354600034 seconds to complete generation 1\n",
      "Step 2.0 : 0.4926829268292683 best: 0.4926829268292683 93\n",
      "It took 40.18873682499907 seconds to complete generation 2\n",
      "Step 3.0 : 0.47609756097560973 best: 0.4926829268292683 93\n",
      "It took 42.24838565399841 seconds to complete generation 3\n",
      "Step 4.0 : 0.47024390243902436 best: 0.4926829268292683 93\n",
      "It took 39.67949135999879 seconds to complete generation 4\n",
      "Step 5.0 : 0.49853658536585366 best: 0.49853658536585366 93\n",
      "It took 40.07302140700085 seconds to complete generation 5\n",
      "Step 6.0 : 0.49365853658536585 best: 0.49853658536585366 93\n",
      "It took 42.5478376029987 seconds to complete generation 6\n",
      "Step 7.0 : 0.4917073170731707 best: 0.49853658536585366 93\n",
      "It took 41.08607747699898 seconds to complete generation 7\n",
      "Step 8.0 : 0.4819512195121951 best: 0.49853658536585366 93\n",
      "It took 40.136552312000276 seconds to complete generation 8\n",
      "Step 9.0 : 0.5004878048780488 best: 0.5004878048780488 93\n",
      "It took 42.70555307699942 seconds to complete generation 9\n",
      "Step 10.0 : 0.4741463414634146 best: 0.5004878048780488 93\n",
      "It took 41.09964719399977 seconds to complete generation 10\n",
      "Step 11.0 : 0.46439024390243905 best: 0.5004878048780488 93\n",
      "It took 40.48588159599967 seconds to complete generation 11\n",
      "Step 12.0 : 0.4819512195121951 best: 0.5004878048780488 93\n",
      "It took 40.648887209999884 seconds to complete generation 12\n",
      "Step 13.0 : 0.5024390243902439 best: 0.5024390243902439 93\n",
      "It took 40.8223378849998 seconds to complete generation 13\n",
      "Step 14.0 : 0.49365853658536585 best: 0.5024390243902439 93\n",
      "It took 40.716799591999006 seconds to complete generation 14\n",
      "Step 15.0 : 0.4975609756097561 best: 0.5024390243902439 93\n",
      "It took 40.846651642001234 seconds to complete generation 15\n",
      "Step 16.0 : 0.4878048780487805 best: 0.5024390243902439 93\n",
      "It took 41.08566099499876 seconds to complete generation 16\n",
      "Step 17.0 : 0.49365853658536585 best: 0.5024390243902439 93\n",
      "It took 41.21600284499982 seconds to complete generation 17\n",
      "Step 18.0 : 0.49658536585365853 best: 0.5024390243902439 93\n",
      "It took 41.2435969649996 seconds to complete generation 18\n",
      "Step 19.0 : 0.4741463414634146 best: 0.5024390243902439 93\n",
      "It took 40.6258303400009 seconds to complete generation 19\n",
      "Step 20.0 : 0.5102439024390244 best: 0.5102439024390244 93\n",
      "It took 41.11492102900047 seconds to complete generation 20\n",
      "Step 21.0 : 0.5004878048780488 best: 0.5102439024390244 93\n",
      "It took 41.334676189002494 seconds to complete generation 21\n",
      "Step 22.0 : 0.49560975609756097 best: 0.5102439024390244 93\n",
      "It took 40.53707842699805 seconds to complete generation 22\n",
      "Step 23.0 : 0.5209756097560976 best: 0.5209756097560976 93\n",
      "It took 41.00355342900002 seconds to complete generation 23\n",
      "Step 24.0 : 0.4995121951219512 best: 0.5209756097560976 93\n",
      "It took 43.35474943000008 seconds to complete generation 24\n",
      "Step 25.0 : 0.4995121951219512 best: 0.5209756097560976 93\n",
      "It took 41.94850592000148 seconds to complete generation 25\n",
      "Step 26.0 : 0.4975609756097561 best: 0.5209756097560976 93\n",
      "It took 41.294691607999994 seconds to complete generation 26\n",
      "Step 27.0 : 0.5092682926829268 best: 0.5209756097560976 93\n",
      "It took 41.8017552099991 seconds to complete generation 27\n",
      "Step 28.0 : 0.5121951219512195 best: 0.5209756097560976 93\n",
      "It took 41.61974969500079 seconds to complete generation 28\n",
      "Step 29.0 : 0.49853658536585366 best: 0.5209756097560976 93\n",
      "It took 40.54353812899717 seconds to complete generation 29\n",
      "Step 30.0 : 0.5024390243902439 best: 0.5209756097560976 93\n",
      "It took 41.359444861001975 seconds to complete generation 30\n"
     ]
    }
   ],
   "source": [
    "snes = SNES(weights, 1, POPULATION_SIZE)\n",
    "log = []\n",
    "for i in range(0, GENERATIONS):\n",
    "    start = timer()\n",
    "    asked = snes.ask()\n",
    "\n",
    "    # to be provided back to snes\n",
    "    told = []\n",
    "    # use a small number of training samples for speed purposes\n",
    "    subsample_indices = np.random.choice(all_examples_indices, size=SAMPLE_SIZE, replace=False)\n",
    "    # evaluate on another subset\n",
    "    subsample_indices_valid = np.random.choice(all_examples_indices, size=SAMPLE_SIZE + 1, replace=False)\n",
    "\n",
    "    # iterate over the population\n",
    "    for asked_j in asked:\n",
    "        # set nn weights\n",
    "        nnw.set_weights(asked_j)\n",
    "        # train the classifer and get back the predictions on the training data\n",
    "        clf, _ = train_classifier(model, x_train[subsample_indices], y_train[subsample_indices])\n",
    "\n",
    "        # calculate the predictions on a different set\n",
    "        y_pred = predict_classifier(model, clf, x_train[subsample_indices_valid])\n",
    "        score = accuracy_score(y_train[subsample_indices_valid], y_pred)\n",
    "\n",
    "        # clf, _ = train_classifier(model, x_train, y_train)\n",
    "        # y_pred = predict_classifier(model, clf, x_test)\n",
    "        # score = accuracy_score(y_test, y_pred)\n",
    "        # append to array of values that are to be returned\n",
    "        told.append(score)\n",
    "\n",
    "    t = snes.tell(asked, told)\n",
    "    log.append(t)\n",
    "    end = timer()\n",
    "    print(\"It took\", end - start, \"seconds to complete generation\", i + 1)"
   ]
  },
  {
   "cell_type": "code",
   "execution_count": 16,
   "metadata": {},
   "outputs": [
    {
     "name": "stdout",
     "output_type": "stream",
     "text": [
      "(795,) (795,)\n",
      "Test accuracy: 0.050314465408805034\n"
     ]
    }
   ],
   "source": [
    "nnw.set_weights(snes.center)\n",
    "\n",
    "clf, _ = train_classifier(model, x_train, y_train)\n",
    "y_pred = predict_classifier(model, clf, x_test)\n",
    "\n",
    "print(y_test.shape, y_pred.shape)\n",
    "test_accuracy = accuracy_score(y_test, y_pred)\n",
    "\n",
    "print('Test accuracy:', test_accuracy)"
   ]
  },
  {
   "cell_type": "code",
   "execution_count": 19,
   "metadata": {},
   "outputs": [
    {
     "data": {
      "image/png": "[encoded data removed]",
      "text/plain": [
       "<matplotlib.figure.Figure at 0x1129cf978>"
      ]
     },
     "metadata": {},
     "output_type": "display_data"
    }
   ],
   "source": [
    "maxline = []\n",
    "for i in range(1, len(log)):\n",
    "    maxline.append(max(log[:i]))\n",
    "plt.plot(log)\n",
    "plt.xlabel('Generation')\n",
    "plt.ylabel('loss value')\n",
    "plt.legend('test', loc='upper left')\n",
    "plt.plot(maxline)\n",
    "plt.savefig('log_AtoW_1.png')\n",
    "plt.show()"
   ]
  }
 ],
 "metadata": {
  "kernelspec": {
   "display_name": "Python 3",
   "language": "python",
   "name": "python3"
  },
  "language_info": {
   "codemirror_mode": {
    "name": "ipython",
    "version": 3
   },
   "file_extension": ".py",
   "mimetype": "text/x-python",
   "name": "python",
   "nbconvert_exporter": "python",
   "pygments_lexer": "ipython3",
   "version": "3.6.4"
  }
 },
 "nbformat": 4,
 "nbformat_minor": 2
}
