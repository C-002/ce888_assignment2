{
 "cells": [
  {
   "cell_type": "code",
   "execution_count": 1,
   "metadata": {},
   "outputs": [
    {
     "name": "stderr",
     "output_type": "stream",
     "text": [
      "Using TensorFlow backend.\n"
     ]
    }
   ],
   "source": [
    "from timeit import default_timer as timer\n",
    "\n",
    "import numpy as np\n",
    "from keras import backend as K\n",
    "from keras.datasets import mnist\n",
    "from keras.layers import Conv2D, MaxPooling2D\n",
    "from keras.layers import Dense, Flatten\n",
    "from keras.models import Sequential\n",
    "from sklearn.ensemble import ExtraTreesClassifier\n",
    "from sklearn.tree import DecisionTreeClassifier\n",
    "from sklearn.metrics import accuracy_score\n",
    "\n",
    "from keras_helper import NNWeightHelper\n",
    "from snes import SNES\n",
    "\n",
    "import pickle as pkl\n"
   ]
  },
  {
   "cell_type": "code",
   "execution_count": 2,
   "metadata": {},
   "outputs": [],
   "source": [
    "import matplotlib.pyplot as plt\n",
    "from numpy import argmax"
   ]
  },
  {
   "cell_type": "code",
   "execution_count": 3,
   "metadata": {},
   "outputs": [],
   "source": [
    "# use just a small sample of the train set to test\n",
    "SAMPLE_SIZE = 1024\n",
    "# how many different sets of weights ask() should return for evaluation\n",
    "POPULATION_SIZE = 20\n",
    "# how many times we will loop over ask()/tell()\n",
    "GENERATIONS = 100"
   ]
  },
  {
   "cell_type": "code",
   "execution_count": 4,
   "metadata": {},
   "outputs": [],
   "source": [
    "def train_classifier(model, X, y):\n",
    "    X_features = model.predict(X)\n",
    "    #clf = ExtraTreesClassifier(n_estimators=100, n_jobs=4)\n",
    "    clf = DecisionTreeClassifier()\n",
    "\n",
    "    clf.fit(X_features, y)\n",
    "    y_pred = clf.predict(X_features)\n",
    "    return clf, y_pred"
   ]
  },
  {
   "cell_type": "code",
   "execution_count": 5,
   "metadata": {},
   "outputs": [],
   "source": [
    "def predict_classifier(model, clf, X):\n",
    "    X_features = model.predict(X)\n",
    "    return clf.predict(X_features)"
   ]
  },
  {
   "cell_type": "code",
   "execution_count": 6,
   "metadata": {},
   "outputs": [],
   "source": [
    "# input image dimensions\n",
    "img_rows, img_cols = 28, 28\n",
    "input_shape = (img_rows, img_cols, 3)"
   ]
  },
  {
   "cell_type": "code",
   "execution_count": 7,
   "metadata": {},
   "outputs": [
    {
     "name": "stdout",
     "output_type": "stream",
     "text": [
      "WARNING:tensorflow:From c:\\program files\\python36\\lib\\site-packages\\tensorflow\\contrib\\learn\\python\\learn\\datasets\\base.py:198: retry (from tensorflow.contrib.learn.python.learn.datasets.base) is deprecated and will be removed in a future version.\n",
      "Instructions for updating:\n",
      "Use the retry module or similar alternatives.\n",
      "WARNING:tensorflow:From <ipython-input-7-93d8da72a918>:2: read_data_sets (from tensorflow.contrib.learn.python.learn.datasets.mnist) is deprecated and will be removed in a future version.\n",
      "Instructions for updating:\n",
      "Please use alternatives such as official/mnist/dataset.py from tensorflow/models.\n",
      "WARNING:tensorflow:From c:\\program files\\python36\\lib\\site-packages\\tensorflow\\contrib\\learn\\python\\learn\\datasets\\mnist.py:260: maybe_download (from tensorflow.contrib.learn.python.learn.datasets.base) is deprecated and will be removed in a future version.\n",
      "Instructions for updating:\n",
      "Please write your own downloading logic.\n",
      "WARNING:tensorflow:From c:\\program files\\python36\\lib\\site-packages\\tensorflow\\contrib\\learn\\python\\learn\\datasets\\mnist.py:262: extract_images (from tensorflow.contrib.learn.python.learn.datasets.mnist) is deprecated and will be removed in a future version.\n",
      "Instructions for updating:\n",
      "Please use tf.data to implement this functionality.\n",
      "Extracting MNIST_data\\train-images-idx3-ubyte.gz\n",
      "WARNING:tensorflow:From c:\\program files\\python36\\lib\\site-packages\\tensorflow\\contrib\\learn\\python\\learn\\datasets\\mnist.py:267: extract_labels (from tensorflow.contrib.learn.python.learn.datasets.mnist) is deprecated and will be removed in a future version.\n",
      "Instructions for updating:\n",
      "Please use tf.data to implement this functionality.\n",
      "Extracting MNIST_data\\train-labels-idx1-ubyte.gz\n",
      "WARNING:tensorflow:From c:\\program files\\python36\\lib\\site-packages\\tensorflow\\contrib\\learn\\python\\learn\\datasets\\mnist.py:110: dense_to_one_hot (from tensorflow.contrib.learn.python.learn.datasets.mnist) is deprecated and will be removed in a future version.\n",
      "Instructions for updating:\n",
      "Please use tf.one_hot on tensors.\n",
      "Extracting MNIST_data\\t10k-images-idx3-ubyte.gz\n",
      "Extracting MNIST_data\\t10k-labels-idx1-ubyte.gz\n",
      "WARNING:tensorflow:From c:\\program files\\python36\\lib\\site-packages\\tensorflow\\contrib\\learn\\python\\learn\\datasets\\mnist.py:290: DataSet.__init__ (from tensorflow.contrib.learn.python.learn.datasets.mnist) is deprecated and will be removed in a future version.\n",
      "Instructions for updating:\n",
      "Please use alternatives such as official/mnist/dataset.py from tensorflow/models.\n"
     ]
    }
   ],
   "source": [
    "from tensorflow.examples.tutorials.mnist import input_data\n",
    "mnist = input_data.read_data_sets('MNIST_data', one_hot=True)"
   ]
  },
  {
   "cell_type": "code",
   "execution_count": 8,
   "metadata": {},
   "outputs": [],
   "source": [
    "mnistm = pkl.load(open('mnistm_data.pkl', 'rb'))\n",
    "mnistm_train = mnistm['train']\n",
    "mnistm_test = mnistm['test']\n",
    "mnistm_valid = mnistm['valid']"
   ]
  },
  {
   "cell_type": "code",
   "execution_count": 9,
   "metadata": {},
   "outputs": [],
   "source": [
    "mnist_train = (mnist.train.images > 0).reshape(55000, 28, 28, 1).astype(np.uint8) * 255\n",
    "mnist_train = np.concatenate([mnist_train, mnist_train, mnist_train], 3)\n",
    "mnist_test = (mnist.test.images > 0).reshape(10000, 28, 28, 1).astype(np.uint8) * 255\n",
    "mnist_test = np.concatenate([mnist_test, mnist_test, mnist_test], 3)\n"
   ]
  },
  {
   "cell_type": "code",
   "execution_count": 10,
   "metadata": {},
   "outputs": [],
   "source": [
    "mnist_train_labels = np.zeros((mnist.train.labels.shape[0],), dtype=float)\n",
    "mnist_test_labels = np.zeros((mnist.test.labels.shape[0],), dtype=float)\n",
    "for i in range(mnist.train.labels.shape[0]):\n",
    "    mnist_train_labels[i] = argmax(mnist.train.labels[i])\n",
    "for i in range(mnist.test.labels.shape[0]):\n",
    "    mnist_test_labels[i] = argmax(mnist.test.labels[i])"
   ]
  },
  {
   "cell_type": "code",
   "execution_count": 11,
   "metadata": {},
   "outputs": [
    {
     "data": {
      "text/plain": [
       "((55000,), (10000,))"
      ]
     },
     "execution_count": 11,
     "metadata": {},
     "output_type": "execute_result"
    }
   ],
   "source": [
    "mnist_train_labels.shape, mnist_test_labels.shape"
   ]
  },
  {
   "cell_type": "code",
   "execution_count": 12,
   "metadata": {},
   "outputs": [
    {
     "data": {
      "text/plain": [
       "array([7., 2., 1., ..., 4., 5., 6.])"
      ]
     },
     "execution_count": 12,
     "metadata": {},
     "output_type": "execute_result"
    }
   ],
   "source": [
    "mnist_test_labels"
   ]
  },
  {
   "cell_type": "code",
   "execution_count": 13,
   "metadata": {},
   "outputs": [],
   "source": [
    "train_num = 30000\n",
    "test_num = 5000"
   ]
  },
  {
   "cell_type": "code",
   "execution_count": 14,
   "metadata": {},
   "outputs": [],
   "source": [
    "#x_train = np.vstack([mnist_train[:train_num], mnistm_train[:train_num]])\n",
    "#y_train = np.append(mnist_train_labels[:train_num], mnist_train_labels[:train_num])\n",
    "x_train = mnist_train\n",
    "y_train = mnist_train_labels"
   ]
  },
  {
   "cell_type": "code",
   "execution_count": 15,
   "metadata": {},
   "outputs": [],
   "source": [
    "x_test = mnistm_test\n",
    "y_test = mnist_test_labels"
   ]
  },
  {
   "cell_type": "code",
   "execution_count": 16,
   "metadata": {},
   "outputs": [
    {
     "data": {
      "text/plain": [
       "(28, 28, 3)"
      ]
     },
     "execution_count": 16,
     "metadata": {},
     "output_type": "execute_result"
    }
   ],
   "source": [
    "x_train[0].shape"
   ]
  },
  {
   "cell_type": "code",
   "execution_count": 17,
   "metadata": {},
   "outputs": [
    {
     "data": {
      "text/plain": [
       "(10000, 28, 28, 3)"
      ]
     },
     "execution_count": 17,
     "metadata": {},
     "output_type": "execute_result"
    }
   ],
   "source": [
    "mnist_test.shape"
   ]
  },
  {
   "cell_type": "code",
   "execution_count": 18,
   "metadata": {},
   "outputs": [
    {
     "data": {
      "text/plain": [
       "(55000, 28, 28, 3)"
      ]
     },
     "execution_count": 18,
     "metadata": {},
     "output_type": "execute_result"
    }
   ],
   "source": [
    "x_train.shape"
   ]
  },
  {
   "cell_type": "code",
   "execution_count": 19,
   "metadata": {},
   "outputs": [],
   "source": [
    "x_train = x_train.astype('float32')\n",
    "x_test = x_test.astype('float32')\n",
    "x_train /= 255\n",
    "x_test /= 255"
   ]
  },
  {
   "cell_type": "code",
   "execution_count": 20,
   "metadata": {},
   "outputs": [
    {
     "data": {
      "text/plain": [
       "10"
      ]
     },
     "execution_count": 20,
     "metadata": {},
     "output_type": "execute_result"
    }
   ],
   "source": [
    "len(set(y_train))"
   ]
  },
  {
   "cell_type": "code",
   "execution_count": 21,
   "metadata": {},
   "outputs": [
    {
     "name": "stdout",
     "output_type": "stream",
     "text": [
      "x_train shape: (55000, 28, 28, 3)\n",
      "y_train shape: (55000,)\n",
      "55000 train samples\n",
      "10000 test samples\n"
     ]
    }
   ],
   "source": [
    "# y_train = keras.utils.to_categorical(y_train, num_classes)\n",
    "# y_test = keras.utils.to_categorical(y_test, num_classes)\n",
    "print('x_train shape:', x_train.shape)\n",
    "print('y_train shape:', y_train.shape)\n",
    "print(x_train.shape[0], 'train samples')\n",
    "print(x_test.shape[0], 'test samples')\n"
   ]
  },
  {
   "cell_type": "code",
   "execution_count": 22,
   "metadata": {},
   "outputs": [
    {
     "name": "stdout",
     "output_type": "stream",
     "text": [
      "compilation is over\n"
     ]
    }
   ],
   "source": [
    "model = Sequential()\n",
    "model.add(Conv2D(32, kernel_size=(5, 5),\n",
    "                 activation='relu',\n",
    "                 input_shape=input_shape))\n",
    "model.add(MaxPooling2D(pool_size=(2, 2)))\n",
    "model.add(Conv2D(64, (5, 5), activation='relu'))\n",
    "model.add(MaxPooling2D(pool_size=(2, 2)))\n",
    "model.add(Flatten())\n",
    "model.add(Dense(10, activation='relu'))\n",
    "\n",
    "# this is irrelevant for what we want to achieve\n",
    "model.compile(loss=\"mse\", optimizer=\"adam\")\n",
    "print(\"compilation is over\")"
   ]
  },
  {
   "cell_type": "code",
   "execution_count": 23,
   "metadata": {
    "scrolled": true
   },
   "outputs": [
    {
     "name": "stdout",
     "output_type": "stream",
     "text": [
      "_________________________________________________________________\n",
      "Layer (type)                 Output Shape              Param #   \n",
      "=================================================================\n",
      "conv2d_1 (Conv2D)            (None, 24, 24, 32)        2432      \n",
      "_________________________________________________________________\n",
      "max_pooling2d_1 (MaxPooling2 (None, 12, 12, 32)        0         \n",
      "_________________________________________________________________\n",
      "conv2d_2 (Conv2D)            (None, 8, 8, 64)          51264     \n",
      "_________________________________________________________________\n",
      "max_pooling2d_2 (MaxPooling2 (None, 4, 4, 64)          0         \n",
      "_________________________________________________________________\n",
      "flatten_1 (Flatten)          (None, 1024)              0         \n",
      "_________________________________________________________________\n",
      "dense_1 (Dense)              (None, 10)                10250     \n",
      "=================================================================\n",
      "Total params: 63,946\n",
      "Trainable params: 63,946\n",
      "Non-trainable params: 0\n",
      "_________________________________________________________________\n"
     ]
    }
   ],
   "source": [
    "model.summary()"
   ]
  },
  {
   "cell_type": "code",
   "execution_count": 24,
   "metadata": {},
   "outputs": [],
   "source": [
    "nnw = NNWeightHelper(model)\n",
    "weights = nnw.get_weights()\n"
   ]
  },
  {
   "cell_type": "code",
   "execution_count": 25,
   "metadata": {},
   "outputs": [
    {
     "name": "stdout",
     "output_type": "stream",
     "text": [
      "Total number of weights to evolve is: (63946,)\n",
      "(10000,) (10000,)\n",
      "Non-trained NN Test accuracy: 0.1768\n",
      "Step 1.0 : 0.4253658536585366 best: 0.4253658536585366 20\n",
      "It took 3.867599116958722 seconds to complete generation 1\n",
      "Step 2.0 : 0.4634146341463415 best: 0.4634146341463415 20\n",
      "It took 3.8617150722251283 seconds to complete generation 2\n",
      "Step 3.0 : 0.44097560975609756 best: 0.4634146341463415 20\n",
      "It took 3.8253733725444956 seconds to complete generation 3\n",
      "Step 4.0 : 0.47317073170731705 best: 0.47317073170731705 20\n",
      "It took 3.8795667124411146 seconds to complete generation 4\n",
      "Step 5.0 : 0.455609756097561 best: 0.47317073170731705 20\n",
      "It took 3.7426854378781744 seconds to complete generation 5\n",
      "Step 6.0 : 0.455609756097561 best: 0.47317073170731705 20\n",
      "It took 3.7772572624140146 seconds to complete generation 6\n",
      "Step 7.0 : 0.4478048780487805 best: 0.47317073170731705 20\n",
      "It took 3.805366277241461 seconds to complete generation 7\n",
      "Step 8.0 : 0.4790243902439024 best: 0.4790243902439024 20\n",
      "It took 3.8167306139412425 seconds to complete generation 8\n",
      "Step 9.0 : 0.5160975609756098 best: 0.5160975609756098 20\n",
      "It took 3.848375033382691 seconds to complete generation 9\n",
      "Step 10.0 : 0.4721951219512195 best: 0.5160975609756098 20\n",
      "It took 3.82355767027542 seconds to complete generation 10\n",
      "Step 11.0 : 0.48585365853658535 best: 0.5160975609756098 20\n",
      "It took 3.8574800138429524 seconds to complete generation 11\n",
      "Step 12.0 : 0.5385365853658537 best: 0.5385365853658537 20\n",
      "It took 3.7729072411597073 seconds to complete generation 12\n",
      "Step 13.0 : 0.5160975609756098 best: 0.5385365853658537 20\n",
      "It took 3.8243260647300232 seconds to complete generation 13\n",
      "Step 14.0 : 0.5326829268292683 best: 0.5385365853658537 20\n",
      "It took 3.8668959076378044 seconds to complete generation 14\n",
      "Step 15.0 : 0.5375609756097561 best: 0.5385365853658537 20\n",
      "It took 3.83717267186357 seconds to complete generation 15\n",
      "Step 16.0 : 0.5551219512195122 best: 0.5551219512195122 20\n",
      "It took 3.892051443317378 seconds to complete generation 16\n",
      "Step 17.0 : 0.5404878048780488 best: 0.5551219512195122 20\n",
      "It took 3.836215438052001 seconds to complete generation 17\n",
      "Step 18.0 : 0.5385365853658537 best: 0.5551219512195122 20\n",
      "It took 3.805214178596202 seconds to complete generation 18\n",
      "Step 19.0 : 0.5336585365853659 best: 0.5551219512195122 20\n",
      "It took 3.908886985570774 seconds to complete generation 19\n",
      "Step 20.0 : 0.6117073170731707 best: 0.6117073170731707 20\n",
      "It took 3.8660769453219217 seconds to complete generation 20\n",
      "Step 21.0 : 0.5580487804878049 best: 0.6117073170731707 20\n",
      "It took 3.8846752516146097 seconds to complete generation 21\n",
      "Step 22.0 : 0.5609756097560976 best: 0.6117073170731707 20\n",
      "It took 3.834097118738086 seconds to complete generation 22\n",
      "Step 23.0 : 0.5629268292682926 best: 0.6117073170731707 20\n",
      "It took 3.8147513562458357 seconds to complete generation 23\n",
      "Step 24.0 : 0.6048780487804878 best: 0.6117073170731707 20\n",
      "It took 3.884485227073398 seconds to complete generation 24\n",
      "Step 25.0 : 0.5804878048780487 best: 0.6117073170731707 20\n",
      "It took 3.868184597977603 seconds to complete generation 25\n",
      "Step 26.0 : 0.5678048780487804 best: 0.6117073170731707 20\n",
      "It took 3.884254511206322 seconds to complete generation 26\n",
      "Step 27.0 : 0.6224390243902439 best: 0.6224390243902439 20\n",
      "It took 3.837822942954702 seconds to complete generation 27\n",
      "Step 28.0 : 0.615609756097561 best: 0.6224390243902439 20\n",
      "It took 3.874628444738022 seconds to complete generation 28\n",
      "Step 29.0 : 0.593170731707317 best: 0.6224390243902439 20\n",
      "It took 3.8495396744377928 seconds to complete generation 29\n",
      "Step 30.0 : 0.6126829268292683 best: 0.6224390243902439 20\n",
      "It took 3.8664048462974137 seconds to complete generation 30\n",
      "Step 31.0 : 0.6009756097560975 best: 0.6224390243902439 20\n",
      "It took 3.7549106134039505 seconds to complete generation 31\n",
      "Step 32.0 : 0.5902439024390244 best: 0.6224390243902439 20\n",
      "It took 3.826563692591648 seconds to complete generation 32\n",
      "Step 33.0 : 0.608780487804878 best: 0.6224390243902439 20\n",
      "It took 3.8854140164630024 seconds to complete generation 33\n",
      "Step 34.0 : 0.6117073170731707 best: 0.6224390243902439 20\n",
      "It took 3.760923448159261 seconds to complete generation 34\n",
      "Step 35.0 : 0.6380487804878049 best: 0.6380487804878049 20\n",
      "It took 3.8417779027927565 seconds to complete generation 35\n",
      "Step 36.0 : 0.5951219512195122 best: 0.6380487804878049 20\n",
      "It took 3.9092599235477223 seconds to complete generation 36\n",
      "Step 37.0 : 0.608780487804878 best: 0.6380487804878049 20\n",
      "It took 3.8933409237800163 seconds to complete generation 37\n",
      "Step 38.0 : 0.624390243902439 best: 0.6380487804878049 20\n",
      "It took 3.8409308911163293 seconds to complete generation 38\n",
      "Step 39.0 : 0.6078048780487805 best: 0.6380487804878049 20\n",
      "It took 3.889589420571326 seconds to complete generation 39\n",
      "Step 40.0 : 0.6419512195121951 best: 0.6419512195121951 20\n",
      "It took 3.8724382242463378 seconds to complete generation 40\n",
      "Step 41.0 : 0.6634146341463415 best: 0.6634146341463415 20\n",
      "It took 3.8592163087673725 seconds to complete generation 41\n",
      "Step 42.0 : 0.6565853658536586 best: 0.6634146341463415 20\n",
      "It took 3.855580953615032 seconds to complete generation 42\n",
      "Step 43.0 : 0.6702439024390244 best: 0.6702439024390244 20\n",
      "It took 3.649189808047538 seconds to complete generation 43\n",
      "Step 44.0 : 0.6487804878048781 best: 0.6702439024390244 20\n",
      "It took 3.8663100315575036 seconds to complete generation 44\n",
      "Step 45.0 : 0.6663414634146342 best: 0.6702439024390244 20\n",
      "It took 3.7687827999741046 seconds to complete generation 45\n",
      "Step 46.0 : 0.6458536585365854 best: 0.6702439024390244 20\n",
      "It took 3.8141998505087713 seconds to complete generation 46\n",
      "Step 47.0 : 0.6897560975609756 best: 0.6897560975609756 20\n",
      "It took 3.8273992474870226 seconds to complete generation 47\n",
      "Step 48.0 : 0.6721951219512196 best: 0.6897560975609756 20\n",
      "It took 3.853520708329313 seconds to complete generation 48\n",
      "Step 49.0 : 0.6575609756097561 best: 0.6897560975609756 20\n",
      "It took 3.8247871014027908 seconds to complete generation 49\n",
      "Step 50.0 : 0.6770731707317074 best: 0.6897560975609756 20\n",
      "It took 3.765826160334882 seconds to complete generation 50\n",
      "Step 51.0 : 0.6809756097560976 best: 0.6897560975609756 20\n",
      "It took 3.7168424953343333 seconds to complete generation 51\n",
      "Step 52.0 : 0.6858536585365854 best: 0.6897560975609756 20\n",
      "It took 3.848268761861732 seconds to complete generation 52\n",
      "Step 53.0 : 0.6946341463414634 best: 0.6946341463414634 20\n",
      "It took 3.79724895032183 seconds to complete generation 53\n",
      "Step 54.0 : 0.6780487804878049 best: 0.6946341463414634 20\n",
      "It took 3.818132291846098 seconds to complete generation 54\n",
      "Step 55.0 : 0.6682926829268293 best: 0.6946341463414634 20\n",
      "It took 3.8505577477074553 seconds to complete generation 55\n",
      "Step 56.0 : 0.6956097560975609 best: 0.6956097560975609 20\n",
      "It took 3.8393316825033708 seconds to complete generation 56\n",
      "Step 57.0 : 0.68 best: 0.6956097560975609 20\n",
      "It took 3.8088076572383898 seconds to complete generation 57\n",
      "Step 58.0 : 0.6956097560975609 best: 0.6956097560975609 20\n",
      "It took 3.7325738409293194 seconds to complete generation 58\n",
      "Step 59.0 : 0.6780487804878049 best: 0.6956097560975609 20\n",
      "It took 3.8173315023553585 seconds to complete generation 59\n",
      "Step 60.0 : 0.7073170731707317 best: 0.7073170731707317 20\n",
      "It took 3.853580362603168 seconds to complete generation 60\n",
      "Step 61.0 : 0.6985365853658536 best: 0.7073170731707317 20\n",
      "It took 3.8212489313588947 seconds to complete generation 61\n",
      "Step 62.0 : 0.6926829268292682 best: 0.7073170731707317 20\n",
      "It took 3.827135346460949 seconds to complete generation 62\n",
      "Step 63.0 : 0.6819512195121952 best: 0.7073170731707317 20\n",
      "It took 3.7572750559801875 seconds to complete generation 63\n",
      "Step 64.0 : 0.6946341463414634 best: 0.7073170731707317 20\n",
      "It took 3.8429077784432195 seconds to complete generation 64\n",
      "Step 65.0 : 0.6926829268292682 best: 0.7073170731707317 20\n",
      "It took 3.8359878826762497 seconds to complete generation 65\n",
      "Step 66.0 : 0.7053658536585365 best: 0.7073170731707317 20\n",
      "It took 3.8046496358323907 seconds to complete generation 66\n",
      "Step 67.0 : 0.7219512195121951 best: 0.7219512195121951 20\n",
      "It took 3.671193938809722 seconds to complete generation 67\n",
      "Step 68.0 : 0.7063414634146341 best: 0.7219512195121951 20\n",
      "It took 3.8629832193712446 seconds to complete generation 68\n"
     ]
    },
    {
     "name": "stdout",
     "output_type": "stream",
     "text": [
      "Step 69.0 : 0.7239024390243902 best: 0.7239024390243902 20\n",
      "It took 3.8593770987637868 seconds to complete generation 69\n",
      "Step 70.0 : 0.7180487804878048 best: 0.7239024390243902 20\n",
      "It took 3.8845816220589313 seconds to complete generation 70\n",
      "Step 71.0 : 0.7239024390243902 best: 0.7239024390243902 20\n",
      "It took 3.7486172850431103 seconds to complete generation 71\n",
      "Step 72.0 : 0.713170731707317 best: 0.7239024390243902 20\n",
      "It took 3.701742457882517 seconds to complete generation 72\n",
      "Step 73.0 : 0.7141463414634146 best: 0.7239024390243902 20\n",
      "It took 3.8157437505234384 seconds to complete generation 73\n",
      "Step 74.0 : 0.7404878048780488 best: 0.7404878048780488 20\n",
      "It took 3.8978920312951573 seconds to complete generation 74\n",
      "Step 75.0 : 0.7053658536585365 best: 0.7404878048780488 20\n",
      "It took 3.9002896590303635 seconds to complete generation 75\n",
      "Step 76.0 : 0.744390243902439 best: 0.744390243902439 20\n",
      "It took 3.9529643828429926 seconds to complete generation 76\n",
      "Step 77.0 : 0.7121951219512195 best: 0.744390243902439 20\n",
      "It took 3.8585079636480373 seconds to complete generation 77\n",
      "Step 78.0 : 0.7463414634146341 best: 0.7463414634146341 20\n",
      "It took 3.8515074753521503 seconds to complete generation 78\n",
      "Step 79.0 : 0.7404878048780488 best: 0.7463414634146341 20\n",
      "It took 3.83485998233283 seconds to complete generation 79\n",
      "Step 80.0 : 0.7424390243902439 best: 0.7463414634146341 20\n",
      "It took 3.7844098493551996 seconds to complete generation 80\n",
      "Step 81.0 : 0.76 best: 0.76 20\n",
      "It took 3.8491240698278943 seconds to complete generation 81\n",
      "Step 82.0 : 0.7463414634146341 best: 0.76 20\n",
      "It took 3.7384085029858625 seconds to complete generation 82\n",
      "Step 83.0 : 0.7580487804878049 best: 0.76 20\n",
      "It took 3.8603355177596086 seconds to complete generation 83\n",
      "Step 84.0 : 0.7590243902439024 best: 0.76 20\n",
      "It took 3.8454195789277605 seconds to complete generation 84\n",
      "Step 85.0 : 0.7482926829268293 best: 0.76 20\n",
      "It took 3.8672004999897354 seconds to complete generation 85\n",
      "Step 86.0 : 0.751219512195122 best: 0.76 20\n",
      "It took 3.8345636862707124 seconds to complete generation 86\n",
      "Step 87.0 : 0.728780487804878 best: 0.76 20\n",
      "It took 3.8491382920388446 seconds to complete generation 87\n",
      "Step 88.0 : 0.7395121951219512 best: 0.76 20\n",
      "It took 3.856655125605812 seconds to complete generation 88\n",
      "Step 89.0 : 0.7395121951219512 best: 0.76 20\n",
      "It took 3.807193831353004 seconds to complete generation 89\n",
      "Step 90.0 : 0.744390243902439 best: 0.76 20\n",
      "It took 3.9008099549155872 seconds to complete generation 90\n",
      "Step 91.0 : 0.7229268292682927 best: 0.76 20\n",
      "It took 3.7768053121537832 seconds to complete generation 91\n",
      "Step 92.0 : 0.7346341463414634 best: 0.76 20\n",
      "It took 3.871778076619819 seconds to complete generation 92\n",
      "Step 93.0 : 0.7141463414634146 best: 0.76 20\n",
      "It took 3.840805656647376 seconds to complete generation 93\n",
      "Step 94.0 : 0.7365853658536585 best: 0.76 20\n",
      "It took 3.7594644863490316 seconds to complete generation 94\n",
      "Step 95.0 : 0.735609756097561 best: 0.76 20\n",
      "It took 3.861021344378173 seconds to complete generation 95\n",
      "Step 96.0 : 0.7336585365853658 best: 0.76 20\n",
      "It took 3.845544418335237 seconds to complete generation 96\n",
      "Step 97.0 : 0.7375609756097561 best: 0.76 20\n",
      "It took 3.8440597775330048 seconds to complete generation 97\n",
      "Step 98.0 : 0.7463414634146341 best: 0.76 20\n",
      "It took 3.8617577388581026 seconds to complete generation 98\n",
      "Step 99.0 : 0.7326829268292683 best: 0.76 20\n",
      "It took 3.808956200330954 seconds to complete generation 99\n",
      "Step 100.0 : 0.7365853658536585 best: 0.76 20\n",
      "It took 3.7545143668034484 seconds to complete generation 100\n",
      "(10000,) (10000,)\n",
      "Test accuracy: 0.234\n"
     ]
    }
   ],
   "source": [
    "print(\"Total number of weights to evolve is:\", weights.shape)\n",
    "\n",
    "all_examples_indices = list(range(x_train.shape[0]))\n",
    "\n",
    "clf, _ = train_classifier(model, x_train, y_train)\n",
    "\n",
    "y_pred = predict_classifier(model, clf, x_test)\n",
    "print(y_test.shape, y_pred.shape)\n",
    "test_accuracy = accuracy_score(y_test, y_pred)\n",
    "\n",
    "print('Non-trained NN Test accuracy:', test_accuracy)\n",
    "# print('Test MSE:', test_mse)\n",
    "\n",
    "snes = SNES(weights, 1, POPULATION_SIZE)\n",
    "log = []\n",
    "for i in range(0, GENERATIONS):\n",
    "    start = timer()\n",
    "    asked = snes.ask()\n",
    "\n",
    "    # to be provided back to snes\n",
    "    told = []\n",
    "    # use a small number of training samples for speed purposes\n",
    "    subsample_indices = np.random.choice(all_examples_indices, size=SAMPLE_SIZE, replace=False)\n",
    "    # evaluate on another subset\n",
    "    subsample_indices_valid = np.random.choice(all_examples_indices, size=SAMPLE_SIZE + 1, replace=False)\n",
    "\n",
    "    # iterate over the population\n",
    "    for asked_j in asked:\n",
    "        # set nn weights\n",
    "        nnw.set_weights(asked_j)\n",
    "        # train the classifer and get back the predictions on the training data\n",
    "        clf, _ = train_classifier(model, x_train[subsample_indices], y_train[subsample_indices])\n",
    "\n",
    "        # calculate the predictions on a different set\n",
    "        y_pred = predict_classifier(model, clf, x_train[subsample_indices_valid])\n",
    "        score = accuracy_score(y_train[subsample_indices_valid], y_pred)\n",
    "\n",
    "        # clf, _ = train_classifier(model, x_train, y_train)\n",
    "        # y_pred = predict_classifier(model, clf, x_test)\n",
    "        # score = accuracy_score(y_test, y_pred)\n",
    "            \n",
    "        # append to array of values that are to be returned\n",
    "        told.append(score)\n",
    "\n",
    "    t = snes.tell(asked, told)\n",
    "    log.append(t)\n",
    "    end = timer()\n",
    "    print(\"It took\", end - start, \"seconds to complete generation\", i + 1)\n",
    "\n",
    "nnw.set_weights(snes.center)\n",
    "\n",
    "clf, _ = train_classifier(model, x_train, y_train)\n",
    "y_pred = predict_classifier(model, clf, x_test)\n",
    "\n",
    "print(y_test.shape, y_pred.shape)\n",
    "test_accuracy = accuracy_score(y_test, y_pred)\n",
    "\n",
    "print('Test accuracy:', test_accuracy)\n",
    "\n"
   ]
  },
  {
   "cell_type": "code",
   "execution_count": 26,
   "metadata": {},
   "outputs": [
    {
     "data": {
      "image/png": "[encoded data removed]",
      "text/plain": [
       "<Figure size 432x288 with 1 Axes>"
      ]
     },
     "metadata": {},
     "output_type": "display_data"
    }
   ],
   "source": [
    "maxline = []\n",
    "for i in range(1, len(log)):\n",
    "    maxline.append(max(log[:i]))\n",
    "plt.plot(log)\n",
    "plt.xlabel('Generation')\n",
    "plt.ylabel('loss value')\n",
    "plt.legend('test', loc='upper left')\n",
    "plt.plot(maxline)\n",
    "plt.savefig('mnistm_1.png')\n",
    "plt.show()"
   ]
  },
  {
   "cell_type": "code",
   "execution_count": null,
   "metadata": {},
   "outputs": [],
   "source": []
  }
 ],
 "metadata": {
  "kernelspec": {
   "display_name": "Python 3",
   "language": "python",
   "name": "python3"
  },
  "language_info": {
   "codemirror_mode": {
    "name": "ipython",
    "version": 3
   },
   "file_extension": ".py",
   "mimetype": "text/x-python",
   "name": "python",
   "nbconvert_exporter": "python",
   "pygments_lexer": "ipython3",
   "version": "3.6.5"
  }
 },
 "nbformat": 4,
 "nbformat_minor": 2
}
