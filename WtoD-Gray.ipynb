{
 "cells": [
  {
   "cell_type": "code",
   "execution_count": 1,
   "metadata": {},
   "outputs": [
    {
     "name": "stderr",
     "output_type": "stream",
     "text": [
      "Using TensorFlow backend.\n"
     ]
    }
   ],
   "source": [
    "from timeit import default_timer as timer\n",
    "\n",
    "import numpy as np\n",
    "from keras import backend as K\n",
    "from keras.datasets import mnist\n",
    "from keras.layers import Conv2D, MaxPooling2D\n",
    "from keras.layers import Dense, Flatten\n",
    "from keras.models import Sequential\n",
    "from sklearn.ensemble import ExtraTreesClassifier\n",
    "from sklearn.tree import DecisionTreeClassifier\n",
    "from sklearn.metrics import accuracy_score\n",
    "\n",
    "from keras_helper import NNWeightHelper\n",
    "from snes import SNES"
   ]
  },
  {
   "cell_type": "code",
   "execution_count": 2,
   "metadata": {},
   "outputs": [],
   "source": [
    "import os\n",
    "import cv2\n",
    "import matplotlib.pyplot as plt\n",
    "from dataSet import dataSet"
   ]
  },
  {
   "cell_type": "code",
   "execution_count": 3,
   "metadata": {},
   "outputs": [],
   "source": [
    "# use just a small sample of the train set to test\n",
    "SAMPLE_SIZE = 790\n",
    "# how many different sets of weights ask() should return for evaluation\n",
    "POPULATION_SIZE = 93\n",
    "# how many times we will loop over ask()/tell()\n",
    "GENERATIONS = 30\n",
    "\n",
    "# input image dimensions\n",
    "img_rows, img_cols = 28, 28"
   ]
  },
  {
   "cell_type": "code",
   "execution_count": 4,
   "metadata": {},
   "outputs": [],
   "source": [
    "def train_classifier(model, X, y):\n",
    "    X_features = model.predict(X)\n",
    "    #clf = ExtraTreesClassifier(n_estimators=100, n_jobs=4)\n",
    "    clf = DecisionTreeClassifier()\n",
    "\n",
    "    clf.fit(X_features, y)\n",
    "    y_pred = clf.predict(X_features)\n",
    "    return clf, y_pred\n",
    "\n",
    "def predict_classifier(model, clf, X):\n",
    "    X_features = model.predict(X)\n",
    "    return clf.predict(X_features)"
   ]
  },
  {
   "cell_type": "code",
   "execution_count": 5,
   "metadata": {},
   "outputs": [
    {
     "name": "stdout",
     "output_type": "stream",
     "text": [
      "{'back_pack': 0, 'bike': 1, 'bike_helmet': 2, 'bookcase': 3, 'bottle': 4, 'calculator': 5, 'desktop_computer': 6, 'desk_chair': 7, 'desk_lamp': 8, 'file_cabinet': 9, 'headphones': 10, 'keyboard': 11, 'laptop_computer': 12, 'letter_tray': 13, 'mobile_phone': 14, 'monitor': 15, 'mouse': 16, 'mug': 17, 'paper_notebook': 18, 'pen': 19, 'phone': 20, 'printer': 21, 'projector': 22, 'punchers': 23, 'ring_binder': 24, 'ruler': 25, 'scissors': 26, 'speaker': 27, 'stapler': 28, 'tape_dispenser': 29, 'trash_can': 30}\n"
     ]
    }
   ],
   "source": [
    "Amazon_path = './Original_images/amazon/images'\n",
    "dslr_path   = './Original_images/dslr/images'\n",
    "webcam_path = './Original_images/webcam/images'\n",
    "paths = [Amazon_path, dslr_path, webcam_path]\n",
    "files = os.listdir(Amazon_path)\n",
    "labels = {}\n",
    "count  = 0\n",
    "for key in files:\n",
    "    a = {key : count}\n",
    "    labels.update(a)\n",
    "    count += 1\n",
    "print (labels)"
   ]
  },
  {
   "cell_type": "code",
   "execution_count": 6,
   "metadata": {},
   "outputs": [],
   "source": [
    "images_path = []\n",
    "Amazon = dataSet()\n",
    "dslr   = dataSet()\n",
    "webcam = dataSet()"
   ]
  },
  {
   "cell_type": "code",
   "execution_count": 7,
   "metadata": {},
   "outputs": [
    {
     "name": "stdout",
     "output_type": "stream",
     "text": [
      "Loading webcam dataSet...\n",
      "[>>>>>>>>>>>>>>>>>>>>>>>>>>>>>>>>>>>>>>>>>>>>>>>>>>]100.00%\n",
      "done\n"
     ]
    }
   ],
   "source": [
    "print('Loading webcam dataSet...')\n",
    "for dirname in files:\n",
    "    images_name = os.listdir(webcam_path + '/' + dirname)\n",
    "    for name in images_name:\n",
    "        Image_Path = webcam_path + '/' + dirname + '/' + name\n",
    "        images_path.append(Image_Path)\n",
    "        image_data = cv2.imread(Image_Path)\n",
    "        image_data = cv2.resize(image_data, (img_rows, img_cols), interpolation=cv2.INTER_CUBIC)\n",
    "        image_data = image_data.reshape(img_rows, img_cols, 3)\n",
    "        webcam.upData(image_data, labels[dirname], labels)\n",
    "webcam.sHape()"
   ]
  },
  {
   "cell_type": "code",
   "execution_count": 8,
   "metadata": {},
   "outputs": [
    {
     "name": "stdout",
     "output_type": "stream",
     "text": [
      "Loading dslr dataSet...\n",
      "[>>>>>>>>>>>>>>>>>>>>>>>>>>>>>>>>>>>>>>>>>>>>>>>>>>]100.00%\n",
      "done\n"
     ]
    }
   ],
   "source": [
    "print('Loading dslr dataSet...')\n",
    "for dirname in files:\n",
    "    images_name = os.listdir(dslr_path + '/' + dirname)\n",
    "    for name in images_name:\n",
    "        Image_Path = dslr_path + '/' + dirname + '/' + name\n",
    "        images_path.append(Image_Path)\n",
    "        image_data = cv2.imread(Image_Path)\n",
    "        image_data = cv2.resize(image_data, (img_rows, img_cols), interpolation=cv2.INTER_CUBIC)\n",
    "        image_data = image_data.reshape(img_rows, img_cols, 3)\n",
    "        dslr.upData(image_data, labels[dirname], labels)\n",
    "dslr.sHape()"
   ]
  },
  {
   "cell_type": "code",
   "execution_count": 9,
   "metadata": {},
   "outputs": [],
   "source": [
    "x_train = webcam.data\n",
    "y_train = webcam.label\n",
    "x_test  = dslr.data\n",
    "y_test  = dslr.label"
   ]
  },
  {
   "cell_type": "code",
   "execution_count": 10,
   "metadata": {},
   "outputs": [
    {
     "name": "stdout",
     "output_type": "stream",
     "text": [
      "x_train shape: (795, 28, 28, 3)\n",
      "y_train shape: (795,)\n",
      "795 train samples\n",
      "498 test samples\n"
     ]
    }
   ],
   "source": [
    "x_train = x_train.reshape(x_train.shape[0], img_rows, img_cols, 3)\n",
    "x_test = x_test.reshape(x_test.shape[0], img_rows, img_cols, 3)\n",
    "input_shape = (img_rows, img_cols, 3)\n",
    "\n",
    "x_train = x_train.astype('float32')\n",
    "x_test = x_test.astype('float32')\n",
    "x_train /= 255\n",
    "x_test /= 255\n",
    "\n",
    "print('x_train shape:', x_train.shape)\n",
    "print('y_train shape:', y_train.shape)\n",
    "print(x_train.shape[0], 'train samples')\n",
    "print(x_test.shape[0], 'test samples')"
   ]
  },
  {
   "cell_type": "code",
   "execution_count": 11,
   "metadata": {},
   "outputs": [
    {
     "name": "stdout",
     "output_type": "stream",
     "text": [
      "compilation is over\n",
      "_________________________________________________________________\n",
      "Layer (type)                 Output Shape              Param #   \n",
      "=================================================================\n",
      "conv2d_1 (Conv2D)            (None, 26, 26, 32)        896       \n",
      "_________________________________________________________________\n",
      "max_pooling2d_1 (MaxPooling2 (None, 13, 13, 32)        0         \n",
      "_________________________________________________________________\n",
      "flatten_1 (Flatten)          (None, 5408)              0         \n",
      "_________________________________________________________________\n",
      "dense_1 (Dense)              (None, 31)                167679    \n",
      "=================================================================\n",
      "Total params: 168,575\n",
      "Trainable params: 168,575\n",
      "Non-trainable params: 0\n",
      "_________________________________________________________________\n"
     ]
    }
   ],
   "source": [
    "model = Sequential()\n",
    "model.add(Conv2D(32, kernel_size=(3, 3),\n",
    "                 activation='relu',\n",
    "                 input_shape=input_shape))\n",
    "# model.add(Conv2D(64, (3, 3), activation='relu'))\n",
    "model.add(MaxPooling2D(pool_size=(2, 2)))\n",
    "model.add(Flatten())\n",
    "model.add(Dense(31, activation='relu'))\n",
    "\n",
    "# this is irrelevant for what we want to achieve\n",
    "model.compile(loss=\"mse\", optimizer=\"adam\")\n",
    "print(\"compilation is over\")\n",
    "model.summary()"
   ]
  },
  {
   "cell_type": "code",
   "execution_count": 12,
   "metadata": {},
   "outputs": [
    {
     "name": "stdout",
     "output_type": "stream",
     "text": [
      "Total number of weights to evolve is: (168575,)\n",
      "(498,) (498,)\n",
      "Non-trained NN Test accuracy: 0.0823293172690763\n"
     ]
    }
   ],
   "source": [
    "nnw = NNWeightHelper(model)\n",
    "weights = nnw.get_weights()\n",
    "print(\"Total number of weights to evolve is:\", weights.shape)\n",
    "\n",
    "all_examples_indices = list(range(x_train.shape[0]))\n",
    "\n",
    "clf, _ = train_classifier(model, x_train, y_train)\n",
    "\n",
    "y_pred = predict_classifier(model, clf, x_test)\n",
    "print(y_test.shape, y_pred.shape)\n",
    "test_accuracy = accuracy_score(y_test, y_pred)\n",
    "\n",
    "print('Non-trained NN Test accuracy:', test_accuracy)\n",
    "# print('Test MSE:', test_mse)"
   ]
  },
  {
   "cell_type": "code",
   "execution_count": 13,
   "metadata": {},
   "outputs": [
    {
     "name": "stdout",
     "output_type": "stream",
     "text": [
      "Step 1.0 : 0.9987357774968394 best: 0.9987357774968394 93\n",
      "It took 14.703382357821347 seconds to complete generation 1\n",
      "Step 2.0 : 0.9974715549936789 best: 0.9987357774968394 93\n",
      "It took 14.555079462653264 seconds to complete generation 2\n",
      "Step 3.0 : 0.9987357774968394 best: 0.9987357774968394 93\n",
      "It took 14.71322768337566 seconds to complete generation 3\n",
      "Step 4.0 : 0.9974715549936789 best: 0.9987357774968394 93\n",
      "It took 14.692200934557292 seconds to complete generation 4\n",
      "Step 5.0 : 0.9987357774968394 best: 0.9987357774968394 93\n",
      "It took 14.72541730337398 seconds to complete generation 5\n",
      "Step 6.0 : 0.9974715549936789 best: 0.9987357774968394 93\n",
      "It took 14.642479294831176 seconds to complete generation 6\n",
      "Step 7.0 : 1.0 best: 1.0 93\n",
      "It took 14.522758698067207 seconds to complete generation 7\n",
      "Step 8.0 : 0.9974715549936789 best: 1.0 93\n",
      "It took 14.621040496955658 seconds to complete generation 8\n",
      "Step 9.0 : 1.0 best: 1.0 93\n",
      "It took 14.621874076543932 seconds to complete generation 9\n",
      "Step 10.0 : 0.9974715549936789 best: 1.0 93\n",
      "It took 14.631263501223884 seconds to complete generation 10\n",
      "Step 11.0 : 0.9987357774968394 best: 1.0 93\n",
      "It took 14.6320077969321 seconds to complete generation 11\n",
      "Step 12.0 : 0.9974715549936789 best: 1.0 93\n",
      "It took 14.62220237258083 seconds to complete generation 12\n",
      "Step 13.0 : 0.9987357774968394 best: 1.0 93\n",
      "It took 14.582232428853388 seconds to complete generation 13\n",
      "Step 14.0 : 0.9987357774968394 best: 1.0 93\n",
      "It took 14.60566273132821 seconds to complete generation 14\n",
      "Step 15.0 : 0.9987357774968394 best: 1.0 93\n",
      "It took 14.554145537465246 seconds to complete generation 15\n",
      "Step 16.0 : 0.9974715549936789 best: 1.0 93\n",
      "It took 14.58665237597836 seconds to complete generation 16\n",
      "Step 17.0 : 0.9987357774968394 best: 1.0 93\n",
      "It took 14.812479358041003 seconds to complete generation 17\n",
      "Step 18.0 : 0.9974715549936789 best: 1.0 93\n",
      "It took 14.853306980103127 seconds to complete generation 18\n",
      "Step 19.0 : 0.9987357774968394 best: 1.0 93\n",
      "It took 14.485733937197892 seconds to complete generation 19\n",
      "Step 20.0 : 0.9974715549936789 best: 1.0 93\n",
      "It took 14.505559699310822 seconds to complete generation 20\n",
      "Step 21.0 : 0.9987357774968394 best: 1.0 93\n",
      "It took 14.588007436636076 seconds to complete generation 21\n",
      "Step 22.0 : 1.0 best: 1.0 93\n",
      "It took 14.515100827574656 seconds to complete generation 22\n",
      "Step 23.0 : 0.9974715549936789 best: 1.0 93\n",
      "It took 14.5819479846337 seconds to complete generation 23\n",
      "Step 24.0 : 0.9987357774968394 best: 1.0 93\n",
      "It took 14.550520453909769 seconds to complete generation 24\n",
      "Step 25.0 : 0.9987357774968394 best: 1.0 93\n",
      "It took 14.515401469312394 seconds to complete generation 25\n",
      "Step 26.0 : 0.9962073324905183 best: 1.0 93\n",
      "It took 14.449903051928459 seconds to complete generation 26\n",
      "Step 27.0 : 0.9974715549936789 best: 1.0 93\n",
      "It took 14.624559308990172 seconds to complete generation 27\n",
      "Step 28.0 : 0.9974715549936789 best: 1.0 93\n",
      "It took 14.738785391576982 seconds to complete generation 28\n",
      "Step 29.0 : 0.9974715549936789 best: 1.0 93\n",
      "It took 14.569612191911347 seconds to complete generation 29\n",
      "Step 30.0 : 0.9974715549936789 best: 1.0 93\n",
      "It took 14.51577203692085 seconds to complete generation 30\n"
     ]
    }
   ],
   "source": [
    "snes = SNES(weights, 1, POPULATION_SIZE)\n",
    "log = []\n",
    "for i in range(0, GENERATIONS):\n",
    "    start = timer()\n",
    "    asked = snes.ask()\n",
    "\n",
    "    # to be provided back to snes\n",
    "    told = []\n",
    "    # use a small number of training samples for speed purposes\n",
    "    subsample_indices = np.random.choice(all_examples_indices, size=SAMPLE_SIZE, replace=False)\n",
    "    # evaluate on another subset\n",
    "    subsample_indices_valid = np.random.choice(all_examples_indices, size=SAMPLE_SIZE + 1, replace=False)\n",
    "\n",
    "    # iterate over the population\n",
    "    for asked_j in asked:\n",
    "        # set nn weights\n",
    "        nnw.set_weights(asked_j)\n",
    "        # train the classifer and get back the predictions on the training data\n",
    "        clf, _ = train_classifier(model, x_train[subsample_indices], y_train[subsample_indices])\n",
    "\n",
    "        # calculate the predictions on a different set\n",
    "        y_pred = predict_classifier(model, clf, x_train[subsample_indices_valid])\n",
    "        score = accuracy_score(y_train[subsample_indices_valid], y_pred)\n",
    "\n",
    "        # clf, _ = train_classifier(model, x_train, y_train)\n",
    "        # y_pred = predict_classifier(model, clf, x_test)\n",
    "        # score = accuracy_score(y_test, y_pred)\n",
    "        # append to array of values that are to be returned\n",
    "        told.append(score)\n",
    "\n",
    "    t = snes.tell(asked, told)\n",
    "    log.append(t)\n",
    "    end = timer()\n",
    "    print(\"It took\", end - start, \"seconds to complete generation\", i + 1)"
   ]
  },
  {
   "cell_type": "code",
   "execution_count": 14,
   "metadata": {},
   "outputs": [
    {
     "name": "stdout",
     "output_type": "stream",
     "text": [
      "(498,) (498,)\n",
      "Test accuracy: 0.09839357429718876\n"
     ]
    }
   ],
   "source": [
    "nnw.set_weights(snes.center)\n",
    "\n",
    "clf, _ = train_classifier(model, x_train, y_train)\n",
    "y_pred = predict_classifier(model, clf, x_test)\n",
    "\n",
    "print(y_test.shape, y_pred.shape)\n",
    "test_accuracy = accuracy_score(y_test, y_pred)\n",
    "\n",
    "print('Test accuracy:', test_accuracy)"
   ]
  },
  {
   "cell_type": "code",
   "execution_count": 15,
   "metadata": {},
   "outputs": [
    {
     "data": {
      "image/png": "[encoded data removed]",
      "text/plain": [
       "<Figure size 432x288 with 1 Axes>"
      ]
     },
     "metadata": {},
     "output_type": "display_data"
    }
   ],
   "source": [
    "maxline = []\n",
    "for i in range(1, len(log)):\n",
    "    maxline.append(max(log[:i]))\n",
    "plt.plot(log)\n",
    "plt.xlabel('Generation')\n",
    "plt.ylabel('loss value')\n",
    "plt.legend('test', loc='upper left')\n",
    "plt.plot(maxline)\n",
    "plt.savefig('log_WtoD_1.png')\n",
    "plt.show()"
   ]
  }
 ],
 "metadata": {
  "kernelspec": {
   "display_name": "Python 3",
   "language": "python",
   "name": "python3"
  },
  "language_info": {
   "codemirror_mode": {
    "name": "ipython",
    "version": 3
   },
   "file_extension": ".py",
   "mimetype": "text/x-python",
   "name": "python",
   "nbconvert_exporter": "python",
   "pygments_lexer": "ipython3",
   "version": "3.6.5"
  }
 },
 "nbformat": 4,
 "nbformat_minor": 2
}
